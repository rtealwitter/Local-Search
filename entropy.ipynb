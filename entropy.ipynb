{
 "cells": [
  {
   "cell_type": "code",
   "execution_count": 79,
   "metadata": {},
   "outputs": [],
   "source": [
    "import numpy as np\n",
    "\n",
    "def read_partial(filename, COMMON_SENSORS):\n",
    "    num_common = len(COMMON_SENSORS)\n",
    "    partial_observations = {}\n",
    "    with open(filename, 'r') as f:\n",
    "        for line in f.readlines():\n",
    "            vals = line.split()\n",
    "            if len(vals) >= 5: \n",
    "                sensor_id, temp = int(vals[3]), float(vals[4])\n",
    "                time = vals[0] + '/' + vals[1][:4] # date and time to the tens of minutes\n",
    "                # Within range of recorded temperature in Berkeley, CA\n",
    "                if -4 <= temp and temp <= 42 and sensor_id in COMMON_SENSORS:\n",
    "                    if time not in partial_observations:\n",
    "                        partial_observations[time] = ['NA']*num_common\n",
    "                    partial_observations[time][COMMON_SENSORS.index(sensor_id)] = temp                \n",
    "    return partial_observations\n",
    "\n",
    "def convert_observations(partial_observations):\n",
    "    observations = []\n",
    "    for time in partial_observations:\n",
    "        if partial_observations[time].count('NA') == 0:\n",
    "            observations += [partial_observations[time]]\n",
    "\n",
    "    return np.array(observations).T # (num_sensors, num_observations)\n",
    "\n",
    "def build_covariance(observations):\n",
    "    xbar = np.mean(observations, 1) # (num_sensors,)\n",
    "    num_sensors, num_observations = observations.shape\n",
    "    sigma = np.zeros((num_sensors,num_sensors))\n",
    "    for i in range(num_observations):\n",
    "        xi = observations[:,i] # (num_sensors,)\n",
    "        outer = np.outer(xi-xbar, xi-xbar)/num_observations\n",
    "        sigma = np.add(outer, sigma) \n",
    "        print(np.max(sigma))\n",
    "    return sigma"
   ]
  },
  {
   "cell_type": "code",
   "execution_count": 80,
   "metadata": {},
   "outputs": [],
   "source": [
    "filename = 'data/temperature.txt'\n",
    "# Sensors with more than 10,000 observations with temps within recorded temps of Berkeley, CA\n",
    "COMMON_SENSORS = [1, 2, 3, 4, 6, 7, 8, 9, 10, 11, 12, 13, 14, 16, 17, 18, 19, 20, 21, 22, 23, 24, 25, 26, 27, 28, 29, 30, 31, 32, 33, 34, 35, 36, 37, 38, 39, 40, 41, 42, 43, 44, 45, 46, 47, 48, 49, 50, 51, 52, 53, 54]\n",
    "partial_observations = read_partial(filename, COMMON_SENSORS)\n",
    "observations = convert_observations(partial_observations)\n",
    "sigma = build_covariance(observations)"
   ]
  },
  {
   "cell_type": "code",
   "execution_count": 83,
   "metadata": {},
   "outputs": [
    {
     "name": "stdout",
     "output_type": "stream",
     "text": [
      "True\n",
      "[[ 7.0121907   5.61216751  5.59848038]\n",
      " [ 5.61216751  4.62479088  4.61441738]\n",
      " [ 6.26593107  5.09863716  5.19759583]\n",
      " [ 5.59848038  4.61441738  4.88591312]\n",
      " [ 5.29777067  4.34108555  4.43222716]\n",
      " [ 5.31198769  4.37110647  4.61774799]\n",
      " [ 5.81155592  4.70114836  4.82986648]\n",
      " [ 5.98677637  4.79671388  4.9233286 ]\n",
      " [ 5.40308699  4.38359479  4.49278369]\n",
      " [ 5.86301729  4.71952819  4.77941801]\n",
      " [ 6.3054962   5.01639044  5.03314404]\n",
      " [ 5.01020413  4.06389747  4.14730336]\n",
      " [ 5.77489138  4.69459428  4.66770107]\n",
      " [ 6.33127457  5.21909326  5.26269974]\n",
      " [ 6.00832087  4.97523682  4.85850788]\n",
      " [ 6.66064884  5.58170941  5.16862529]\n",
      " [ 7.60947926  6.08296642  5.89337969]\n",
      " [ 8.06047538  6.45153984  6.3132017 ]\n",
      " [11.53027863  8.79691478  8.89607754]\n",
      " [11.25673673  8.68955681  8.71299714]\n",
      " [10.19396701  7.94907595  7.83416125]\n",
      " [12.06935546  9.36000554  9.11056784]\n",
      " [13.00214678 10.01298159  9.83263823]\n",
      " [10.93775603  8.50505814  8.23469888]\n",
      " [ 9.92456409  7.79432588  7.45094759]\n",
      " [12.09271947  9.36086029  9.0307175 ]\n",
      " [10.36166917  8.0676597   7.82381194]\n",
      " [11.38468089  8.84164361  8.49988483]\n",
      " [10.2341064   7.94272866  7.68400508]\n",
      " [10.71504302  8.24948178  8.05806522]\n",
      " [ 8.19828935  6.46314437  6.23954263]\n",
      " [ 7.37639988  6.10195539  5.73454454]\n",
      " [ 6.61574669  5.51730347  5.3398524 ]\n",
      " [ 7.72207004  6.40291689  6.05390037]\n",
      " [ 6.92103569  5.76608482  5.66364946]\n",
      " [ 8.39369778  6.86476433  6.58988441]\n",
      " [ 7.03001132  5.85489007  5.64240596]\n",
      " [ 8.30079621  6.83329773  6.92343931]\n",
      " [ 8.95815806  7.30876393  7.30993337]\n",
      " [ 9.3112257   7.65888404  7.76464831]\n",
      " [ 8.27127863  6.80909303  6.84309462]\n",
      " [ 7.98905522  6.81565601  6.74198244]\n",
      " [ 7.32371966  6.21231228  6.3464791 ]\n",
      " [ 6.52075841  5.5903204   5.77024356]\n",
      " [ 6.95842844  6.04984946  6.10438181]\n",
      " [ 5.83391892  5.09721079  5.08827124]\n",
      " [ 6.67937942  5.8210832   5.88321498]\n",
      " [ 6.91050606  5.97721603  5.82355679]\n",
      " [ 5.86542726  5.11362315  5.15142355]\n",
      " [ 6.19684213  5.29488333  5.25144629]\n",
      " [ 6.64099031  5.54206585  5.61336014]\n",
      " [ 6.59416487  5.42201047  5.44396885]]\n"
     ]
    }
   ],
   "source": [
    "S = [0,1,3]\n",
    "print(sigma[:,S])"
   ]
  }
 ],
 "metadata": {
  "interpreter": {
   "hash": "b0fa6594d8f4cbf19f97940f81e996739fb7646882a419484c72d19e05852a7e"
  },
  "kernelspec": {
   "display_name": "Python 3.9.7 64-bit",
   "language": "python",
   "name": "python3"
  },
  "language_info": {
   "codemirror_mode": {
    "name": "ipython",
    "version": 3
   },
   "file_extension": ".py",
   "mimetype": "text/x-python",
   "name": "python",
   "nbconvert_exporter": "python",
   "pygments_lexer": "ipython3",
   "version": "3.9.7"
  },
  "orig_nbformat": 4
 },
 "nbformat": 4,
 "nbformat_minor": 2
}
