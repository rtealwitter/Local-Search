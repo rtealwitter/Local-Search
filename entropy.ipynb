{
 "cells": [
  {
   "cell_type": "code",
   "execution_count": 26,
   "metadata": {},
   "outputs": [],
   "source": [
    "import numpy as np\n",
    "\n",
    "def read_partial(filename, COMMON_SENSORS):\n",
    "    num_common = len(COMMON_SENSORS)\n",
    "    partial_observations = {}\n",
    "    with open(filename, 'r') as f:\n",
    "        for line in f.readlines():\n",
    "            vals = line.split()\n",
    "            if len(vals) >= 5: \n",
    "                sensor_id, temp = int(vals[3]), float(vals[4])\n",
    "                time = vals[0] + '/' + vals[1][:4] # date and time to the tens of minutes\n",
    "                # Within range of recorded temperature in Berkeley, CA\n",
    "                if -4 <= temp and temp <= 42 and sensor_id in COMMON_SENSORS:\n",
    "                    if time not in partial_observations:\n",
    "                        partial_observations[time] = ['NA']*num_common\n",
    "                    partial_observations[time][COMMON_SENSORS.index(sensor_id)] = temp                \n",
    "    return partial_observations\n",
    "\n",
    "def convert_observations(partial_observations):\n",
    "    observations = []\n",
    "    for time in partial_observations:\n",
    "        if partial_observations[time].count('NA') == 0:\n",
    "            observations += [partial_observations[time]]\n",
    "\n",
    "    return np.array(observations).T # (num_sensors, num_observations)\n",
    "\n",
    "def build_covariance(observations):\n",
    "    xbar = np.mean(observations, 1) # (num_sensors,)\n",
    "    num_sensors, num_observations = observations.shape\n",
    "    S = np.empty((num_sensors,num_sensors))\n",
    "    for i in range(num_observations):\n",
    "        xi = observations[:,i] # (num_sensors,)\n",
    "        outer = np.outer(xi-xbar, xi-xbar)/num_observations\n",
    "        S = np.add(outer, S)\n",
    "    return S"
   ]
  },
  {
   "cell_type": "code",
   "execution_count": 25,
   "metadata": {},
   "outputs": [],
   "source": [
    "filename = 'data/temperature.txt'\n",
    "# Sensors with more than 10,000 observations with temps within recorded temps of Berkeley, CA\n",
    "COMMON_SENSORS = [1, 2, 3, 4, 6, 7, 8, 9, 10, 11, 12, 13, 14, 16, 17, 18, 19, 20, 21, 22, 23, 24, 25, 26, 27, 28, 29, 30, 31, 32, 33, 34, 35, 36, 37, 38, 39, 40, 41, 42, 43, 44, 45, 46, 47, 48, 49, 50, 51, 52, 53, 54]\n",
    "partial_observations = read_partial(filename, COMMON_SENSORS)\n",
    "observations = convert_observations(partial_observations)\n",
    "S = build_covariance(observations)"
   ]
  },
  {
   "cell_type": "code",
   "execution_count": 28,
   "metadata": {},
   "outputs": [
    {
     "name": "stdout",
     "output_type": "stream",
     "text": [
      "[[ 7.0121907   5.61216751  6.26593107 ...  6.19684213  9.34878641\n",
      "   6.59416487]\n",
      " [ 6.45372406  4.62479088  6.19156796 ...  5.29488333  5.54206585\n",
      "   5.42201047]\n",
      " [ 6.26593107  5.09863716  5.74885241 ...  5.81187902  6.2183937\n",
      "   9.41657952]\n",
      " ...\n",
      " [ 9.03603258  8.40483373  9.49914127 ... 18.07837117 17.59483964\n",
      "  16.59672035]\n",
      " [ 9.34878729  8.50809241  9.73501499 ... 17.59483964 17.82918852\n",
      "  17.09215329]\n",
      " [ 9.14123178  8.21197891  9.41657996 ... 16.59672035 17.09215329\n",
      "  16.61200198]]\n",
      "[[ 7.0121907   6.45372406  6.26593107 ...  9.03603258  9.34878729\n",
      "   9.14123178]\n",
      " [ 5.61216751  4.62479088  5.09863716 ...  8.40483373  8.50809241\n",
      "   8.21197891]\n",
      " [ 6.26593107  6.19156796  5.74885241 ...  9.49914127  9.73501499\n",
      "   9.41657996]\n",
      " ...\n",
      " [ 6.19684213  5.29488333  5.81187902 ... 18.07837117 17.59483964\n",
      "  16.59672035]\n",
      " [ 9.34878641  5.54206585  6.2183937  ... 17.59483964 17.82918852\n",
      "  17.09215329]\n",
      " [ 6.59416487  5.42201047  9.41657952 ... 16.59672035 17.09215329\n",
      "  16.61200198]]\n"
     ]
    }
   ],
   "source": []
  }
 ],
 "metadata": {
  "interpreter": {
   "hash": "b0fa6594d8f4cbf19f97940f81e996739fb7646882a419484c72d19e05852a7e"
  },
  "kernelspec": {
   "display_name": "Python 3.9.7 64-bit",
   "language": "python",
   "name": "python3"
  },
  "language_info": {
   "codemirror_mode": {
    "name": "ipython",
    "version": 3
   },
   "file_extension": ".py",
   "mimetype": "text/x-python",
   "name": "python",
   "nbconvert_exporter": "python",
   "pygments_lexer": "ipython3",
   "version": "3.9.7"
  },
  "orig_nbformat": 4
 },
 "nbformat": 4,
 "nbformat_minor": 2
}
